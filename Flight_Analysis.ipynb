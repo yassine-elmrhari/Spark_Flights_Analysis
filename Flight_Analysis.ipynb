{
 "cells": [
  {
   "cell_type": "markdown",
   "metadata": {},
   "source": [
    "# Importing Spark SQL and creating a session"
   ]
  },
  {
   "cell_type": "code",
   "execution_count": 1,
   "metadata": {},
   "outputs": [],
   "source": [
    "import findspark\n",
    "findspark.init()\n",
    "import pyspark"
   ]
  },
  {
   "cell_type": "code",
   "execution_count": 2,
   "metadata": {},
   "outputs": [],
   "source": [
    "# importing required modules\n",
    "\n",
    "from pyspark.sql.types import *\n",
    "from pyspark.sql.functions import *\n",
    "from pyspark.sql import SparkSession\n",
    "from pyspark.sql import SQLContext\n",
    "\n",
    "# create SparkSession\n",
    "spark = SparkSession.builder.appName(\"Data Preprocessing in Apache Spark\") \\\n",
    ".config(\"spark.some.config.option\", \"some-value\").getOrCreate()"
   ]
  },
  {
   "cell_type": "markdown",
   "metadata": {},
   "source": [
    "# Loading flights and airports data"
   ]
  },
  {
   "cell_type": "code",
   "execution_count": 3,
   "metadata": {},
   "outputs": [
    {
     "name": "stdout",
     "output_type": "stream",
     "text": [
      "+----------+---------+-------+---------------+-------------+--------+--------+\n",
      "|DayofMonth|DayOfWeek|Carrier|OriginAirportID|DestAirportID|DepDelay|ArrDelay|\n",
      "+----------+---------+-------+---------------+-------------+--------+--------+\n",
      "|        19|        5|     DL|          11433|        13303|      -3|       1|\n",
      "|        19|        5|     DL|          14869|        12478|       0|      -8|\n",
      "|        19|        5|     DL|          14057|        14869|      -4|     -15|\n",
      "+----------+---------+-------+---------------+-------------+--------+--------+\n",
      "only showing top 3 rows\n",
      "\n"
     ]
    }
   ],
   "source": [
    "# Create flights db schema\n",
    "flightSchema = StructType([\n",
    "StructField(\"DayofMonth\", IntegerType(), False),\n",
    "StructField(\"DayOfWeek\", IntegerType(), False),\n",
    "StructField(\"Carrier\", StringType(), False),\n",
    "StructField(\"OriginAirportID\", IntegerType(), False),\n",
    "StructField(\"DestAirportID\", IntegerType(), False),\n",
    "StructField(\"DepDelay\", IntegerType(), False),\n",
    "StructField(\"ArrDelay\", IntegerType(), False)])\n",
    "\n",
    "# Read data from file into DataFrame\n",
    "flightDataFrame = spark.read.csv('raw-flight-data.csv', schema=flightSchema, header=True)\n",
    "flightDataFrame.show(3)"
   ]
  },
  {
   "cell_type": "code",
   "execution_count": 4,
   "metadata": {},
   "outputs": [
    {
     "name": "stdout",
     "output_type": "stream",
     "text": [
      "+----------+-----------+-----+--------------------+\n",
      "|Airport_ID|       City|State|                Name|\n",
      "+----------+-----------+-----+--------------------+\n",
      "|     10165|Adak Island|   AK|                Adak|\n",
      "|     10299|  Anchorage|   AK|Ted Stevens Ancho...|\n",
      "|     10304|      Aniak|   AK|       Aniak Airport|\n",
      "+----------+-----------+-----+--------------------+\n",
      "only showing top 3 rows\n",
      "\n"
     ]
    }
   ],
   "source": [
    "# Create airports db schema\n",
    "airportSchema = StructType([\n",
    "StructField(\"Airport_ID\", IntegerType(), False),\n",
    "StructField(\"City\", StringType(), False),\n",
    "StructField(\"State\", StringType(), False),\n",
    "StructField(\"Name\", StringType(), False),\n",
    "])\n",
    "\n",
    "# Reading data from file into DataFrame\n",
    "airportDataFrame = spark.read.csv('airports.csv', schema=airportSchema, header=True)\n",
    "airportDataFrame.show(3)"
   ]
  },
  {
   "cell_type": "markdown",
   "metadata": {},
   "source": [
    "# Handling duplicated data"
   ]
  },
  {
   "cell_type": "code",
   "execution_count": 5,
   "metadata": {},
   "outputs": [
    {
     "name": "stdout",
     "output_type": "stream",
     "text": [
      "Number of rows in Flight DataFrame:  2719418\n",
      "Number of rows after removing duplicates:  2696983\n",
      "Number of duplicate rows in Flight DataFrame:  22435\n"
     ]
    }
   ],
   "source": [
    "# Count the number of flights\n",
    "n1 = flightDataFrame.count()\n",
    "print(\"Number of rows in Flight DataFrame: \", n1)\n",
    "\n",
    "# Count unique flights\n",
    "n2 = flightDataFrame.dropDuplicates().count()\n",
    "print(\"Number of rows after removing duplicates: \", n2)\n",
    "\n",
    "# Count the number of duplicated flights\n",
    "n3 = n1 - n2\n",
    "print(\"Number of duplicate rows in Flight DataFrame: \", n3)"
   ]
  },
  {
   "cell_type": "code",
   "execution_count": 6,
   "metadata": {},
   "outputs": [
    {
     "name": "stdout",
     "output_type": "stream",
     "text": [
      "+----------+---------+-------+---------------+-------------+--------+--------+\n",
      "|DayofMonth|DayOfWeek|Carrier|OriginAirportID|DestAirportID|DepDelay|ArrDelay|\n",
      "+----------+---------+-------+---------------+-------------+--------+--------+\n",
      "|        19|        5|     DL|          12889|        13487|       7|      16|\n",
      "|        18|        4|     DL|          12892|        13487|       5|      -4|\n",
      "|        18|        4|     DL|          14635|        11193|      -7|     -12|\n",
      "|        18|        4|     DL|          10397|        11298|      -3|      44|\n",
      "|        18|        4|     DL|          10397|        12451|       1|      -7|\n",
      "|        19|        5|     DL|          13487|        11433|      -3|     -21|\n",
      "|        19|        5|     DL|          14771|        13487|     340|     325|\n",
      "|        19|        5|     DL|          10397|        11298|      20|      20|\n",
      "|        19|        5|     DL|          12953|        13487|       4|     -28|\n",
      "|        19|        5|     DL|          14869|        11278|      -4|     -24|\n",
      "|        20|        6|     DL|          12889|        12478|      -6|      -9|\n",
      "|        16|        2|     DL|          10397|        11193|      -4|     -19|\n",
      "|        16|        2|     DL|          14747|        13487|     -16|     -17|\n",
      "|        16|        2|     DL|          10721|        10397|       9|       3|\n",
      "|        17|        3|     DL|          12173|        14747|      10|       8|\n",
      "|        18|        4|     DL|          10397|        13495|       0|       6|\n",
      "|        18|        4|     DL|          15304|        11433|      -7|     -13|\n",
      "|        18|        4|     DL|          10397|        11618|      -1|     -19|\n",
      "|        18|        4|     DL|          13487|        10397|       3|      -3|\n",
      "|        20|        6|     DL|          12892|        10397|      -3|     -14|\n",
      "+----------+---------+-------+---------------+-------------+--------+--------+\n",
      "only showing top 20 rows\n",
      "\n"
     ]
    }
   ],
   "source": [
    "# Drop duplicated flights\n",
    "UniqueflightDataFrame = flightDataFrame.dropDuplicates()\n",
    "UniqueflightDataFrame.show()"
   ]
  },
  {
   "cell_type": "markdown",
   "metadata": {},
   "source": [
    "# Handling missing data"
   ]
  },
  {
   "cell_type": "code",
   "execution_count": 7,
   "metadata": {},
   "outputs": [
    {
     "name": "stdout",
     "output_type": "stream",
     "text": [
      "Number of flights to be removed:  22435\n"
     ]
    }
   ],
   "source": [
    "# Remove the flight if the day of the month or the day of the week is missing\n",
    "flightsNoMissingDays = UniqueflightDataFrame.dropDuplicates().dropna(how=\"any\", subset=[\"DayofMonth\", \"DayofWeek\"]) \n",
    "numberOfFlightsWithoutDays = n1 - flightsNoMissingDays.count()\n",
    "print(\"Number of flights to be removed: \", numberOfFlightsWithoutDays)"
   ]
  },
  {
   "cell_type": "code",
   "execution_count": 8,
   "metadata": {},
   "outputs": [
    {
     "name": "stdout",
     "output_type": "stream",
     "text": [
      "Number of flights to be corrected:  46233\n"
     ]
    }
   ],
   "source": [
    "# Count the number of flights with missing departure or arrival delays\n",
    "flightsNoMissingDelay = flightsNoMissingDays.dropDuplicates().dropna(how=\"any\", subset=[\"DepDelay\", \"ArrDelay\"]) \n",
    "numberOfMissingDelay = n1 - flightsNoMissingDelay.count()\n",
    "print(\"Number of flights to be corrected: \", numberOfMissingDelay)"
   ]
  },
  {
   "cell_type": "code",
   "execution_count": 9,
   "metadata": {},
   "outputs": [
    {
     "name": "stdout",
     "output_type": "stream",
     "text": [
      "Average value of ArrDelay column:  6.7272897311633875\n",
      "Average value of DepDelay column:  10.618575625454712\n"
     ]
    }
   ],
   "source": [
    "# Filling missing data with the average value in the respective column\n",
    "meanArrDelay = flightsNoMissingDays.groupBy().avg(\"ArrDelay\").take(1)[0][0]\n",
    "print(\"Average value of ArrDelay column: \", meanArrDelay)\n",
    "meanDepDelay = flightsNoMissingDays.groupBy().avg(\"DepDelay\").take(1)[0][0]\n",
    "print(\"Average value of DepDelay column: \", meanDepDelay)\n",
    "\n",
    "# Removing duplicate data and filling missing data with the average value in the respective column\n",
    "flightsCleanData = flightsNoMissingDays.fillna({'ArrDelay': meanArrDelay, 'DepDelay': meanDepDelay})"
   ]
  },
  {
   "cell_type": "markdown",
   "metadata": {},
   "source": [
    "# Displaying dataset statistics"
   ]
  },
  {
   "cell_type": "code",
   "execution_count": 10,
   "metadata": {},
   "outputs": [
    {
     "name": "stdout",
     "output_type": "stream",
     "text": [
      "+-------+------------------+------------------+\n",
      "|summary|          DepDelay|          ArrDelay|\n",
      "+-------+------------------+------------------+\n",
      "|  count|           2696983|           2696983|\n",
      "|   mean|10.613481805409972|  6.72087217457433|\n",
      "| stddev| 36.04900147972999|38.578791794541594|\n",
      "|    min|               -63|               -94|\n",
      "|    max|              1863|              1845|\n",
      "+-------+------------------+------------------+\n",
      "\n"
     ]
    }
   ],
   "source": [
    "flightsCleanData.describe('DepDelay','ArrDelay').show()"
   ]
  },
  {
   "cell_type": "code",
   "execution_count": 11,
   "metadata": {},
   "outputs": [
    {
     "name": "stdout",
     "output_type": "stream",
     "text": [
      "Correlation value of DepDelay and ArrDelay columns:  0.9394056759019337\n"
     ]
    }
   ],
   "source": [
    "# view the correlation value of the DepDelay and ArrDelay columns\n",
    "correlation = flightsCleanData.corr('DepDelay', 'ArrDelay')\n",
    "print(\"Correlation value of DepDelay and ArrDelay columns: \", correlation)"
   ]
  },
  {
   "cell_type": "markdown",
   "metadata": {},
   "source": [
    "# Display flight count per city"
   ]
  },
  {
   "cell_type": "code",
   "execution_count": 12,
   "metadata": {},
   "outputs": [
    {
     "name": "stdout",
     "output_type": "stream",
     "text": [
      "+-----------------+-------------+\n",
      "|             City|Total Flights|\n",
      "+-----------------+-------------+\n",
      "|          Chicago|       176144|\n",
      "|          Atlanta|       148462|\n",
      "|      Los Angeles|       117446|\n",
      "|         New York|       117392|\n",
      "|Dallas/Fort Worth|       103947|\n",
      "|          Houston|       102187|\n",
      "|           Denver|        97208|\n",
      "|          Phoenix|        89686|\n",
      "|    San Francisco|        83818|\n",
      "|       Washington|        80300|\n",
      "|        Las Vegas|        77841|\n",
      "|        Charlotte|        76383|\n",
      "|           Boston|        66567|\n",
      "|           Newark|        63995|\n",
      "|          Detroit|        62423|\n",
      "|          Seattle|        60149|\n",
      "|      Minneapolis|        60106|\n",
      "|          Orlando|        58972|\n",
      "|        Baltimore|        51711|\n",
      "|     Philadelphia|        47386|\n",
      "+-----------------+-------------+\n",
      "only showing top 20 rows\n",
      "\n"
     ]
    }
   ],
   "source": [
    "flightByOrigin = flightsCleanData.join(airportDataFrame,flightsCleanData.OriginAirportID == airportDataFrame.Airport_ID) \\\n",
    "                                .groupBy(\"City\").count() \\\n",
    "                                .withColumnRenamed(\"count\", \"Total Flights\") \\\n",
    "                                .sort(desc(\"Total Flights\"))\n",
    "\n",
    "flightByOrigin.show()"
   ]
  }
 ],
 "metadata": {
  "kernelspec": {
   "display_name": "base",
   "language": "python",
   "name": "python3"
  },
  "language_info": {
   "codemirror_mode": {
    "name": "ipython",
    "version": 3
   },
   "file_extension": ".py",
   "mimetype": "text/x-python",
   "name": "python",
   "nbconvert_exporter": "python",
   "pygments_lexer": "ipython3",
   "version": "3.12.7"
  }
 },
 "nbformat": 4,
 "nbformat_minor": 4
}
